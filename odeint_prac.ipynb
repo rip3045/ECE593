{
 "cells": [
  {
   "cell_type": "code",
   "execution_count": 1,
   "metadata": {},
   "outputs": [
    {
     "data": {
      "text/plain": [
       "'this is just to learn how to use the odeint from scipy'"
      ]
     },
     "execution_count": 1,
     "metadata": {},
     "output_type": "execute_result"
    }
   ],
   "source": [
    "\"\"\"this is just to learn how to use the odeint from scipy\"\"\""
   ]
  },
  {
   "cell_type": "code",
   "execution_count": 8,
   "metadata": {},
   "outputs": [],
   "source": [
    "from scipy.integrate import odeint\n",
    "import numpy as np\n",
    "import matplotlib.pyplot as plt"
   ]
  },
  {
   "cell_type": "code",
   "execution_count": 4,
   "metadata": {},
   "outputs": [],
   "source": [
    "def odes(x, t):\n",
    "    #constants\n",
    "    a1 = 3e5\n",
    "    a2 = 0.2\n",
    "    a3 = 4e-7\n",
    "    a4 = 0.6\n",
    "    a5 = 8\n",
    "    a6 = 90\n",
    "    \n",
    "    \n",
    "    #assign each ode to vector\n",
    "    A = x[0]\n",
    "    B = x[1]\n",
    "    C = x[2]\n",
    "    \n",
    "    dAdt = a1-a2*A - a3*A*C\n",
    "    dBdt = a3*A*C - a4*B\n",
    "    dCdt = -a3*A*C - a5*C +a6*B\n",
    "    \n",
    "    return [dAdt, dBdt, dCdt];"
   ]
  },
  {
   "cell_type": "code",
   "execution_count": 5,
   "metadata": {},
   "outputs": [],
   "source": [
    "#ics\n",
    "\n",
    "x0 = [2e6, 0, 90]"
   ]
  },
  {
   "cell_type": "code",
   "execution_count": 6,
   "metadata": {},
   "outputs": [
    {
     "name": "stdout",
     "output_type": "stream",
     "text": [
      "[-100072.0, 72.0, -792.0]\n"
     ]
    }
   ],
   "source": [
    "#tes te odes\n",
    "print(odes(x0, 0))"
   ]
  },
  {
   "cell_type": "code",
   "execution_count": 7,
   "metadata": {},
   "outputs": [],
   "source": [
    "#time vec\n",
    "\n",
    "t = np.linspace(0, 15, 1500)\n",
    "\n",
    "x = odeint(odes, x0, t)"
   ]
  },
  {
   "cell_type": "code",
   "execution_count": 10,
   "metadata": {},
   "outputs": [
    {
     "data": {
      "image/png": "[encoded data removed]",
      "text/plain": [
       "<Figure size 432x288 with 1 Axes>"
      ]
     },
     "metadata": {
      "needs_background": "light"
     },
     "output_type": "display_data"
    }
   ],
   "source": [
    "A = x[:,0]\n",
    "B = x[:,1]\n",
    "C = x[:,2]\n",
    "\n",
    "plt.semilogy(t,A)\n",
    "plt.semilogy(t,B)\n",
    "plt.semilogy(t,C)\n",
    "plt.legend([\"A\", \"B\", \"C\"])\n",
    "plt.show()"
   ]
  },
  {
   "cell_type": "code",
   "execution_count": null,
   "metadata": {},
   "outputs": [],
   "source": []
  }
 ],
 "metadata": {
  "kernelspec": {
   "display_name": "Python 3",
   "language": "python",
   "name": "python3"
  },
  "language_info": {
   "codemirror_mode": {
    "name": "ipython",
    "version": 3
   },
   "file_extension": ".py",
   "mimetype": "text/x-python",
   "name": "python",
   "nbconvert_exporter": "python",
   "pygments_lexer": "ipython3",
   "version": "3.7.4"
  }
 },
 "nbformat": 4,
 "nbformat_minor": 2
}
