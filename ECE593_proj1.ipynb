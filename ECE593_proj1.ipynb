{
 "cells": [
  {
   "cell_type": "code",
   "execution_count": 2,
   "metadata": {},
   "outputs": [],
   "source": [
    "##imports\n",
    "import scipy\n",
    "import numpy as np\n",
    "import matplotlib.pyplot as plt\n",
    "from scipy.integrate import odeint\n",
    "\n",
    "##will need        scipy.integrate.odeint"
   ]
  },
  {
   "cell_type": "code",
   "execution_count": 3,
   "metadata": {},
   "outputs": [],
   "source": [
    "##this block is for general info regarding how the project is to proceed\n",
    "\n",
    "###the analysis and comments appear as markdown text below the relevant blocks\n",
    "\n",
    "##1 means the block is used by both the nonlinear and linear portions\n",
    "##2 means that the block is setting up nonlinear function definitions and dependencies\n",
    "##3 is the blocks running the nonlinear simulations\n",
    "##4 is setting up the linear functions definitions and dependencies\n",
    "##5 is running linear simulations\n",
    "##6 is for plotting\n"
   ]
  },
  {
   "cell_type": "markdown",
   "metadata": {},
   "source": [
    "# Part 1 Set up the functions for the linearized and nonlinear ODEs"
   ]
  },
  {
   "cell_type": "code",
   "execution_count": 22,
   "metadata": {},
   "outputs": [
    {
     "name": "stdout",
     "output_type": "stream",
     "text": [
      "1266.6666666666667\n",
      "58.86\n",
      "588.6\n",
      "0.0\n"
     ]
    }
   ],
   "source": [
    "##1\n",
    "\n",
    "##---set up all constants---##\n",
    "I_m = 700\n",
    "k = 100\n",
    "m = 500\n",
    "g = 9.81\n",
    "W = 300\n",
    "r0 = 3\n",
    "del_c = 0.05\n",
    "del_R = 5\n",
    "R_0 = 5\n",
    "L = 0.4\n",
    "\n",
    "##use this portion to test the equations\n",
    "x_bar = 0\n",
    "r_bar = np.sqrt((x_bar*del_c/np.pi)+(r0**2))\n",
    "v_bar = r_bar*g*(m-W)*(R_0+del_R)/k\n",
    "x_dot_bar=0\n",
    "i_bar = (m-W)*g*r_bar/k\n",
    "divisor = m*r_bar-(I_m/r_bar)\n",
    "print(divisor)\n",
    "print(i_bar)\n",
    "print(v_bar)\n",
    "print((v_bar/L)-((R_0+del_R)*i_bar/L))\n"
   ]
  },
  {
   "cell_type": "code",
   "execution_count": 5,
   "metadata": {},
   "outputs": [],
   "source": [
    "t = np.linspace(0, 15, 1500)"
   ]
  },
  {
   "cell_type": "code",
   "execution_count": 6,
   "metadata": {},
   "outputs": [],
   "source": [
    "##1\n",
    "\n",
    "##---set up a function to return the trim variables---#\n",
    "def trim(x_bar, m, g, W, R_0, del_R, del_c, r_0, k):\n",
    "    r_bar = np.sqrt((x_bar*del_c/np.pi)+r0**2)\n",
    "    v_bar = r_bar*g*(m-W)*(R_0+del_R)/k\n",
    "    x_dot_bar=0\n",
    "    i_bar = (m-W)*g*r_bar/k\n",
    "    \n",
    "    print(\"r_bar=\", r_bar)\n",
    "    print(\"x_dot_bar=\", x_dot_bar)\n",
    "    print(\"i_bar=\", i_bar)\n",
    "    print(\"v_bar=\", v_bar)\n",
    "    return x_dot_bar, i_bar, r_bar, v_bar;\n",
    "    "
   ]
  },
  {
   "cell_type": "code",
   "execution_count": 25,
   "metadata": {},
   "outputs": [],
   "source": [
    "##2\n",
    "\n",
    "##---Nonlinear ODEs---##\n",
    "def nonlin_odes(x_vec, t):\n",
    "    #constants set internally to keep things in the ode, reduce functional dependency\n",
    "    I_m = 700\n",
    "    k = 100\n",
    "    m = 500\n",
    "    g = 9.81\n",
    "    W = 300\n",
    "    r0 = 3\n",
    "    del_c = 0.05\n",
    "    del_R = 5\n",
    "    R_0 = 5\n",
    "    L = 0.4\n",
    "    tauR=3\n",
    "    \n",
    "    #assign each ODE to a vector element\n",
    "    x = x_vec[0]\n",
    "    x_dot = x_vec[1]\n",
    "    i = x_vec[2]\n",
    "    r = x_vec[3]\n",
    "    divisor = (m*r)-(I_m/r)\n",
    "    \n",
    "    #define the doublet \n",
    "    ###let the doublet be defined with magnitude 20 and period 5s\n",
    "    c = 20\n",
    "    if t<5:\n",
    "        v_bar_c = v_bar+c\n",
    "    elif t>5:\n",
    "        v_bar_c = v_bar-c\n",
    "    if t>10:\n",
    "        v_bar_c = v_bar\n",
    "    \n",
    "    #define the nonlinear funcs, \n",
    "    dxdt = x_dot\n",
    "    dx_dotdt = (((W-m)*r*g)+(k*i)-((I_m*del_c*(x_dot**2))/(2*np.pi*(r**3))))/divisor\n",
    "    didt = (v_bar_c/L)-((R_0+del_R)*(1-np.exp(-1*t/tauR))*i/L)-(k*x_dot/(L*r))\n",
    "    drdt = del_c*x_dot/(2*np.pi*r)\n",
    "    \n",
    "    return [dx_dotdt, dxdt, didt, drdt];"
   ]
  },
  {
   "cell_type": "code",
   "execution_count": 8,
   "metadata": {},
   "outputs": [],
   "source": [
    "##4\n",
    "\n",
    "##---set up a jacobian function for A that returns the jacobian matrix---#\n",
    "def JacA(x_bar, x_dot_bar, i_bar, r_bar, I_m, m, g, W, R_0, del_R, del_c, k):\n",
    "    divisor = m*r_bar-(I_m/r_bar)\n",
    "    A = np.zeros((4,4))\n",
    "    #x_bar is always 0 so A22, A34, and A44 are all 0\n",
    "    A[0,1] = 1\n",
    "    A[1,2] = k/divisor\n",
    "    A[1,3] = (2*I_m/(r_bar*(divisor**2)))*g*(W-m)+(-1*I_m/(2*np.pi))*((4*m*r_bar**3)-(3*I_m*r_bar**2))/((m*r_bar**4)-(I_m*r_bar**3))**2\n",
    "    A[2,1] = k/(L*r_bar)\n",
    "    A[2,2] = -1*(R_0+del_R)/L\n",
    "    A[3,1] = del_c/(2*np.pi*r_bar)\n",
    "    #print(A)\n",
    "    return A\n",
    "    \n",
    "    "
   ]
  },
  {
   "cell_type": "code",
   "execution_count": 9,
   "metadata": {},
   "outputs": [],
   "source": [
    "##4\n",
    "\n",
    "##---set up a jacobian function for the B matrix---#\n",
    "def JacB(L, k):\n",
    "    B = np.zeros((4,1))\n",
    "    B[2,0] = k/L\n",
    "    #print(B)\n",
    "    return B;"
   ]
  },
  {
   "cell_type": "code",
   "execution_count": 10,
   "metadata": {},
   "outputs": [],
   "source": [
    "##4\n",
    "\n",
    "##---set up the observation matrix C---##\n",
    "C = np.zeros((2,4))\n",
    "C[0,0] = 1\n",
    "C[1,1] = 1"
   ]
  },
  {
   "cell_type": "code",
   "execution_count": 11,
   "metadata": {},
   "outputs": [],
   "source": [
    "##4\n",
    "\n",
    "##---define the linear odes---##\n",
    "def lin_odes(x_vec, t, A, B, v_bar):\n",
    "    #this is straightforward Ax+Bu\n",
    "    #print(type(A))\n",
    "    #print(A)\n",
    "    #print(type(B))\n",
    "    \n",
    "    x = x_vec.reshape(4,1)\n",
    "    #print(type(x))\n",
    "    \n",
    "    #define the doublet \n",
    "    ###let the doublet be defined with magnitude 20 and period 5s\n",
    "    c = 20\n",
    "    if t<5:\n",
    "        v_bar_c = v_bar+c\n",
    "    elif t>5:\n",
    "        v_bar_c = v_bar-c\n",
    "    if t>10:\n",
    "        v_bar_c = v_bar\n",
    "    \n",
    "    x = np.add((np.matmul(A, x)), B*v_bar_c)\n",
    "    \n",
    "    return x.reshape(4,)\n",
    "    "
   ]
  },
  {
   "cell_type": "code",
   "execution_count": 12,
   "metadata": {},
   "outputs": [
    {
     "name": "stdout",
     "output_type": "stream",
     "text": [
      "[[1 0 0 0]\n",
      " [0 1 0 0]]\n"
     ]
    }
   ],
   "source": [
    "##4 \n",
    "\n",
    "##---define the observation matrix C---##\n",
    "C = np.array([[1, 0, 0, 0], [0, 1, 0, 0]])\n",
    "print(C)"
   ]
  },
  {
   "cell_type": "markdown",
   "metadata": {},
   "source": [
    "# Part 2 Test Controllability Observability and Stability of Linearized system"
   ]
  },
  {
   "cell_type": "code",
   "execution_count": 13,
   "metadata": {},
   "outputs": [
    {
     "name": "stdout",
     "output_type": "stream",
     "text": [
      "r_bar= 3.0\n",
      "x_dot_bar= 0\n",
      "i_bar= 58.86\n",
      "v_bar= 588.6\n",
      "A =  \n",
      " [[ 0.00000000e+00  1.00000000e+00  0.00000000e+00  0.00000000e+00]\n",
      " [ 0.00000000e+00  0.00000000e+00  7.89473684e-02 -5.79046243e-01]\n",
      " [ 0.00000000e+00  8.33333333e+01 -2.50000000e+01  0.00000000e+00]\n",
      " [ 0.00000000e+00  2.65258238e-03  0.00000000e+00  0.00000000e+00]]\n",
      "B =  \n",
      " [[  0.]\n",
      " [  0.]\n",
      " [250.]\n",
      " [  0.]]\n",
      "(array([ 0.00000000e+00, -2.52604440e+01,  2.54470309e-01,  5.97370870e-03]), array([[ 1.00000000e+00,  1.23723594e-04,  7.51680638e-01,\n",
      "         9.99780555e-01],\n",
      "       [ 0.00000000e+00, -3.12531293e-03,  1.91280404e-01,\n",
      "         5.97239780e-03],\n",
      "       [ 0.00000000e+00,  9.99995109e-01,  6.31176718e-01,\n",
      "         1.99032368e-02],\n",
      "       [ 0.00000000e+00,  3.28187027e-07,  1.99389482e-03,\n",
      "         2.65200029e-03]]))\n",
      "Determinate of controllability matrix is  -7.661776055913928e-12\n",
      "Rank of the controllability matrix is  4\n"
     ]
    }
   ],
   "source": [
    "##4\n",
    "\n",
    "##---test the parameters for the linearized system x_bar=0---##\n",
    "x_bar=0\n",
    "x_dot_bar, i_bar, r_bar, v_bar = trim(x_bar, m, g, W, R_0, del_R, del_c, r0, k)\n",
    "A = JacA(x_bar, x_dot_bar, i_bar, r_bar, I_m, m, g, W, R_0, del_R, del_c, k)\n",
    "print(\"A = \", \"\\n\", A)\n",
    "B = JacB(L, k)\n",
    "print(\"B = \", \"\\n\", B)\n",
    "\n",
    "##test the stability of the linearized system\n",
    "print(np.linalg.eig(A))\n",
    "##check the controllability \n",
    "Qc = np.bmat([B, np.matmul(A,B), np.matmul(A,np.matmul(A,B)), np.matmul(A,np.matmul(A,np.matmul(A,B)))])\n",
    "print(\"Determinate of controllability matrix is \", np.linalg.det(Qc))\n",
    "##check the observability\n",
    "Cc = np.bmat([[C], [np.matmul(C,A)], [np.matmul(C,np.matmul(A,A))], [np.matmul(C,np.matmul(A,np.matmul(A,A)))]])\n",
    "print(\"Rank of the controllability matrix is \", np.linalg.matrix_rank(Cc))"
   ]
  },
  {
   "cell_type": "markdown",
   "metadata": {},
   "source": [
    "The system matrix is naturally unstable since two of its eigenvalues are positive, as well as degenerate since one of the values is zero. The system is both observable, since the determinate of the observability matrix is not zero, and it is controllable since the rank of the controllability matrix is equal to the dimension of A"
   ]
  },
  {
   "cell_type": "code",
   "execution_count": 14,
   "metadata": {},
   "outputs": [
    {
     "name": "stdout",
     "output_type": "stream",
     "text": [
      "r_bar= 3.039528321078427\n",
      "x_dot_bar= 0\n",
      "i_bar= 59.63554565955874\n",
      "v_bar= 596.3554565955875\n",
      "A =  \n",
      " [[ 0.00000000e+00  1.00000000e+00  0.00000000e+00  0.00000000e+00]\n",
      " [ 0.00000000e+00  0.00000000e+00  7.75515265e-02 -5.51231007e-01]\n",
      " [ 0.00000000e+00  8.22496038e+01 -2.50000000e+01  0.00000000e+00]\n",
      " [ 0.00000000e+00  2.61808620e-03  0.00000000e+00  0.00000000e+00]]\n",
      "B =  \n",
      " [[  0.]\n",
      " [  0.]\n",
      " [250.]\n",
      " [  0.]]\n",
      "(array([ 0.00000000e+00, -2.52525906e+01,  2.46801633e-01,  5.78900096e-03]), array([[ 1.00000000e+00, -1.21611722e-04, -7.65302994e-01,\n",
      "         9.99798592e-01],\n",
      "       [ 0.00000000e+00,  3.07101104e-03, -1.88878029e-01,\n",
      "         5.78783500e-03],\n",
      "       [ 0.00000000e+00, -9.99995277e-01, -6.15331132e-01,\n",
      "         1.90374771e-02],\n",
      "       [ 0.00000000e+00, -3.18389972e-07, -2.00362921e-03,\n",
      "         2.61755890e-03]]))\n",
      "Determinate of controllability matrix is  -6.8113650864859164e-12\n",
      "Rank of the controllability matrix is  4\n"
     ]
    }
   ],
   "source": [
    "##4\n",
    "\n",
    "##---test the parameters for the linearized system x_bar=15---##\n",
    "x_bar=15\n",
    "x_dot_bar, i_bar, r_bar, v_bar = trim(x_bar, m, g, W, R_0, del_R, del_c, r0, k)\n",
    "A = JacA(x_bar, x_dot_bar, i_bar, r_bar, I_m, m, g, W, R_0, del_R, del_c, k)\n",
    "print(\"A = \", \"\\n\", A)\n",
    "B = JacB(L, k)\n",
    "print(\"B = \", \"\\n\", B)\n",
    "\n",
    "##test the stability of the linearized system\n",
    "print(np.linalg.eig(A))\n",
    "##check the controllability \n",
    "Qc = np.bmat([B, np.matmul(A,B), np.matmul(A,np.matmul(A,B)), np.matmul(A,np.matmul(A,np.matmul(A,B)))])\n",
    "print(\"Determinate of controllability matrix is \", np.linalg.det(Qc))\n",
    "##check the observability\n",
    "Cc = np.bmat([[C], [np.matmul(C,A)], [np.matmul(C,np.matmul(A,A))], [np.matmul(C,np.matmul(A,np.matmul(A,A)))]])\n",
    "print(\"Rank of the controllability matrix is \", np.linalg.matrix_rank(Cc))"
   ]
  },
  {
   "cell_type": "markdown",
   "metadata": {},
   "source": [
    "The system matrix is naturally unstable since two of its eigenvalues are positive, as well as degenerate since one of the values is zero. The system is both observable, since the determinate of the observability matrix is not zero, and it is controllable since the rank of the controllability matrix is equal to the dimension of A"
   ]
  },
  {
   "cell_type": "code",
   "execution_count": 15,
   "metadata": {},
   "outputs": [
    {
     "name": "stdout",
     "output_type": "stream",
     "text": [
      "r_bar= 3.0785491435537757\n",
      "x_dot_bar= 0\n",
      "i_bar= 60.40113419652508\n",
      "v_bar= 604.0113419652508\n",
      "A =  \n",
      " [[ 0.00000000e+00  1.00000000e+00  0.00000000e+00  0.00000000e+00]\n",
      " [ 0.00000000e+00  0.00000000e+00  7.62256279e-02 -5.25565454e-01]\n",
      " [ 0.00000000e+00  8.12070844e+01 -2.50000000e+01  0.00000000e+00]\n",
      " [ 0.00000000e+00  2.58490178e-03  0.00000000e+00  0.00000000e+00]]\n",
      "B =  \n",
      " [[  0.]\n",
      " [  0.]\n",
      " [250.]\n",
      " [  0.]]\n",
      "(array([ 0.00000000e+00, -2.52451970e+01,  2.39581677e-01,  5.61537158e-03]), array([[ 1.00000000e+00, -1.19602587e-04, -7.78120954e-01,\n",
      "         9.99814665e-01],\n",
      "       [ 0.00000000e+00,  3.01939087e-03, -1.86423523e-01,\n",
      "         5.61433086e-03],\n",
      "       [ 0.00000000e+00, -9.99995434e-01, -5.99808307e-01,\n",
      "         1.82328422e-02],\n",
      "       [ 0.00000000e+00, -3.09160939e-07, -2.01136624e-03,\n",
      "         2.58442270e-03]]))\n",
      "Determinate of controllability matrix is  1.293550045589412e-12\n",
      "Rank of the controllability matrix is  4\n"
     ]
    }
   ],
   "source": [
    "##4\n",
    "\n",
    "##---test the parameters for the linearized system x_bar=30---##\n",
    "x_bar=30\n",
    "x_dot_bar, i_bar, r_bar, v_bar = trim(x_bar, m, g, W, R_0, del_R, del_c, r0, k)\n",
    "A = JacA(x_bar, x_dot_bar, i_bar, r_bar, I_m, m, g, W, R_0, del_R, del_c, k)\n",
    "print(\"A = \", \"\\n\", A)\n",
    "B = JacB(L, k)\n",
    "print(\"B = \", \"\\n\", B)\n",
    "\n",
    "##test the stability of the linearized system\n",
    "print(np.linalg.eig(A))\n",
    "##check the controllability \n",
    "Qc = np.bmat([B, np.matmul(A,B), np.matmul(A,np.matmul(A,B)), np.matmul(A,np.matmul(A,np.matmul(A,B)))])\n",
    "print(\"Determinate of controllability matrix is \", np.linalg.det(Qc))\n",
    "##check the observability\n",
    "Cc = np.bmat([[C], [np.matmul(C,A)], [np.matmul(C,np.matmul(A,A))], [np.matmul(C,np.matmul(A,np.matmul(A,A)))]])\n",
    "print(\"Rank of the controllability matrix is \", np.linalg.matrix_rank(Cc))"
   ]
  },
  {
   "cell_type": "markdown",
   "metadata": {},
   "source": [
    "The system matrix is naturally unstable since two of its eigenvalues are positive, as well as degenerate since one of the values is zero. The system is both observable, since the determinate of the observability matrix is not zero, and it is controllable since the rank of the controllability matrix is equal to the dimension of A"
   ]
  },
  {
   "cell_type": "markdown",
   "metadata": {},
   "source": [
    "# Part 3 Simulate the Nonlinear System"
   ]
  },
  {
   "cell_type": "code",
   "execution_count": 35,
   "metadata": {},
   "outputs": [
    {
     "name": "stdout",
     "output_type": "stream",
     "text": [
      "x_bar= 0\n",
      "r_bar= 3.0\n",
      "x_dot_bar= 0\n",
      "i_bar= 58.86\n",
      "v_bar= 588.6\n"
     ]
    }
   ],
   "source": [
    "##3 \n",
    "\n",
    "##---first nonlinear simulation---##\n",
    "x0 = [2, 0, 60, 3]\n",
    "x_bar = 0\n",
    "print(\"x_bar=\", x_bar)\n",
    "x_dot_bar, i_bar, r_bar, v_bar = trim(x_bar, m, g, W, R_0, del_R, del_c, r0, k)\n",
    "\n",
    "x_vec = odeint(nonlin_odes, x0, t,)\n"
   ]
  },
  {
   "cell_type": "code",
   "execution_count": 36,
   "metadata": {
    "scrolled": true
   },
   "outputs": [
    {
     "data": {
      "text/plain": [
       "<matplotlib.legend.Legend at 0x1e97f999fc8>"
      ]
     },
     "execution_count": 36,
     "metadata": {},
     "output_type": "execute_result"
    },
    {
     "data": {
      "image/png": "[encoded data removed]",
      "text/plain": [
       "<Figure size 432x288 with 1 Axes>"
      ]
     },
     "metadata": {
      "needs_background": "light"
     },
     "output_type": "display_data"
    }
   ],
   "source": [
    "x = x_vec[:,0]\n",
    "x_dot = x_vec[:,1]\n",
    "i = x_vec[:,2]\n",
    "r = x_vec[:,3]\n",
    "plt.plot(t, x)\n",
    "plt.plot(t,x_dot)\n",
    "plt.xlabel(\"time\",fontsize='13')\n",
    "plt.legend(['x', 'x_dot'])"
   ]
  },
  {
   "cell_type": "code",
   "execution_count": 30,
   "metadata": {},
   "outputs": [
    {
     "data": {
      "text/plain": [
       "<matplotlib.legend.Legend at 0x1e97f823f08>"
      ]
     },
     "execution_count": 30,
     "metadata": {},
     "output_type": "execute_result"
    },
    {
     "data": {
      "image/png": "[encoded data removed]",
      "text/plain": [
       "<Figure size 432x288 with 1 Axes>"
      ]
     },
     "metadata": {
      "needs_background": "light"
     },
     "output_type": "display_data"
    }
   ],
   "source": [
    "x = x_vec[:,0]\n",
    "x_dot = x_vec[:,1]\n",
    "i = x_vec[:,2]\n",
    "r = x_vec[:,3]\n",
    "plt.plot(t, x)\n",
    "plt.plot(t,x_dot)\n",
    "plt.plot(t,i)\n",
    "plt.plot(t,r)\n",
    "plt.xlabel(\"time\",fontsize='13')\n",
    "plt.legend(['x', 'x_dot', 'i', 'r'])"
   ]
  },
  {
   "cell_type": "markdown",
   "metadata": {},
   "source": [
    "This is clearly not the correct behavior for the system based on the input, and also by observation. The position cannot be changing without the velocity never being nonzero, but whenever the initial condition is changed for velocity to anything other than zero the plot rapidly diverges for velocity and produces huge values. The coupling must be incorrect somewhere internally."
   ]
  },
  {
   "cell_type": "code",
   "execution_count": 38,
   "metadata": {},
   "outputs": [
    {
     "name": "stdout",
     "output_type": "stream",
     "text": [
      "x_bar= 15\n",
      "r_bar= 3.039528321078427\n",
      "x_dot_bar= 0\n",
      "i_bar= 59.63554565955874\n",
      "v_bar= 596.3554565955875\n"
     ]
    }
   ],
   "source": [
    "##3 \n",
    "\n",
    "##---secomd nonlinear simulation---##\n",
    "x0 = [2, 0, 60, 3]\n",
    "x_bar = 15\n",
    "print(\"x_bar=\", x_bar)\n",
    "x_dot_bar, i_bar, r_bar, v_bar = trim(x_bar, m, g, W, R_0, del_R, del_c, r0, k)\n",
    "\n",
    "x_vec = odeint(nonlin_odes, x0, t,)"
   ]
  },
  {
   "cell_type": "code",
   "execution_count": 39,
   "metadata": {
    "scrolled": true
   },
   "outputs": [
    {
     "data": {
      "text/plain": [
       "<matplotlib.legend.Legend at 0x1e97fa11f08>"
      ]
     },
     "execution_count": 39,
     "metadata": {},
     "output_type": "execute_result"
    },
    {
     "data": {
      "image/png": "[encoded data removed]",
      "text/plain": [
       "<Figure size 432x288 with 1 Axes>"
      ]
     },
     "metadata": {
      "needs_background": "light"
     },
     "output_type": "display_data"
    }
   ],
   "source": [
    "x = x_vec[:,0]\n",
    "x_dot = x_vec[:,1]\n",
    "i = x_vec[:,2]\n",
    "r = x_vec[:,3]\n",
    "plt.plot(t, x)\n",
    "plt.plot(t,x_dot)\n",
    "plt.xlabel(\"time\",fontsize='13')\n",
    "plt.legend(['x', 'x_dot'])"
   ]
  },
  {
   "cell_type": "code",
   "execution_count": 40,
   "metadata": {},
   "outputs": [
    {
     "data": {
      "text/plain": [
       "<matplotlib.legend.Legend at 0x1e97fa91b88>"
      ]
     },
     "execution_count": 40,
     "metadata": {},
     "output_type": "execute_result"
    },
    {
     "data": {
      "image/png": "[encoded data removed]",
      "text/plain": [
       "<Figure size 432x288 with 1 Axes>"
      ]
     },
     "metadata": {
      "needs_background": "light"
     },
     "output_type": "display_data"
    }
   ],
   "source": [
    "x = x_vec[:,0]\n",
    "x_dot = x_vec[:,1]\n",
    "i = x_vec[:,2]\n",
    "r = x_vec[:,3]\n",
    "plt.plot(t, x)\n",
    "plt.plot(t,x_dot)\n",
    "plt.plot(t,i)\n",
    "plt.plot(t,r)\n",
    "plt.xlabel(\"time\",fontsize='13')\n",
    "plt.legend(['x', 'x_dot', 'i', 'r'])"
   ]
  },
  {
   "cell_type": "markdown",
   "metadata": {},
   "source": [
    "The behavior does not seem to change based on the change in the trim point, indicating a decoupling or perhaps a magnitude that is incorrect. I am not sure why the relationship in the system will not update"
   ]
  },
  {
   "cell_type": "code",
   "execution_count": 41,
   "metadata": {},
   "outputs": [
    {
     "name": "stdout",
     "output_type": "stream",
     "text": [
      "x_bar= 30\n",
      "r_bar= 3.0785491435537757\n",
      "x_dot_bar= 0\n",
      "i_bar= 60.40113419652508\n",
      "v_bar= 604.0113419652508\n"
     ]
    }
   ],
   "source": [
    "##3 \n",
    "\n",
    "##---secomd nonlinear simulation---##\n",
    "x0 = [2, 0, 60, 3]\n",
    "x_bar = 30\n",
    "print(\"x_bar=\", x_bar)\n",
    "x_dot_bar, i_bar, r_bar, v_bar = trim(x_bar, m, g, W, R_0, del_R, del_c, r0, k)\n",
    "\n",
    "x_vec = odeint(nonlin_odes, x0, t,)"
   ]
  },
  {
   "cell_type": "code",
   "execution_count": 42,
   "metadata": {
    "scrolled": true
   },
   "outputs": [
    {
     "data": {
      "text/plain": [
       "<matplotlib.legend.Legend at 0x1e97fb15948>"
      ]
     },
     "execution_count": 42,
     "metadata": {},
     "output_type": "execute_result"
    },
    {
     "data": {
      "image/png": "[encoded data removed]",
      "text/plain": [
       "<Figure size 432x288 with 1 Axes>"
      ]
     },
     "metadata": {
      "needs_background": "light"
     },
     "output_type": "display_data"
    }
   ],
   "source": [
    "x = x_vec[:,0]\n",
    "x_dot = x_vec[:,1]\n",
    "i = x_vec[:,2]\n",
    "r = x_vec[:,3]\n",
    "plt.plot(t, x)\n",
    "plt.plot(t,x_dot)\n",
    "plt.xlabel(\"time\",fontsize='13')\n",
    "plt.legend(['x', 'x_dot'])"
   ]
  },
  {
   "cell_type": "code",
   "execution_count": 43,
   "metadata": {},
   "outputs": [
    {
     "data": {
      "text/plain": [
       "<matplotlib.legend.Legend at 0x1e97fb94f48>"
      ]
     },
     "execution_count": 43,
     "metadata": {},
     "output_type": "execute_result"
    },
    {
     "data": {
      "image/png": "[encoded data removed]",
      "text/plain": [
       "<Figure size 432x288 with 1 Axes>"
      ]
     },
     "metadata": {
      "needs_background": "light"
     },
     "output_type": "display_data"
    }
   ],
   "source": [
    "x = x_vec[:,0]\n",
    "x_dot = x_vec[:,1]\n",
    "i = x_vec[:,2]\n",
    "r = x_vec[:,3]\n",
    "plt.plot(t, x)\n",
    "plt.plot(t,x_dot)\n",
    "plt.plot(t,i)\n",
    "plt.plot(t,r)\n",
    "plt.xlabel(\"time\",fontsize='13')\n",
    "plt.legend(['x', 'x_dot', 'i', 'r'])"
   ]
  },
  {
   "cell_type": "markdown",
   "metadata": {},
   "source": [
    "The same behavior as the two previous seems to occur."
   ]
  },
  {
   "cell_type": "markdown",
   "metadata": {},
   "source": [
    "# Part 4 Simulate the Linearized System"
   ]
  },
  {
   "cell_type": "code",
   "execution_count": 55,
   "metadata": {},
   "outputs": [
    {
     "name": "stdout",
     "output_type": "stream",
     "text": [
      "r_bar= 3.0\n",
      "x_dot_bar= 0\n",
      "i_bar= 58.86\n",
      "v_bar= 588.6\n"
     ]
    }
   ],
   "source": [
    "##5 \n",
    "\n",
    "##---first linear simulation---##\n",
    "x0 = np.array([5, 0, 60, 3])\n",
    "\n",
    "#print(x0.shape)\n",
    "x_bar = 0\n",
    "\n",
    "x_dot_bar, i_bar, r_bar, v_bar = trim(x_bar, m, g, W, R_0, del_R, del_c, r0, k)\n",
    "A = JacA(x_bar, x_dot_bar, i_bar, r_bar, I_m, m, g, W, R_0, del_R, del_c, k)\n",
    "#print(type(A))\n",
    "#print(A)\n",
    "#print(np.linalg.eig(A))\n",
    "B = JacB(L, k)\n",
    "\n",
    "Bu = v_bar*B\n",
    "x_vec = odeint(lin_odes, x0, t, (A, B, v_bar))"
   ]
  },
  {
   "cell_type": "code",
   "execution_count": 56,
   "metadata": {},
   "outputs": [
    {
     "data": {
      "text/plain": [
       "<matplotlib.legend.Legend at 0x1e97fef5d08>"
      ]
     },
     "execution_count": 56,
     "metadata": {},
     "output_type": "execute_result"
    },
    {
     "data": {
      "image/png": "[encoded data removed]",
      "text/plain": [
       "<Figure size 432x288 with 1 Axes>"
      ]
     },
     "metadata": {
      "needs_background": "light"
     },
     "output_type": "display_data"
    }
   ],
   "source": [
    "x = x_vec[:,0]\n",
    "x_dot = x_vec[:,1]\n",
    "plt.plot(t, x)\n",
    "plt.plot(t,x_dot)\n",
    "plt.xlabel(\"time\",fontsize='13')\n",
    "plt.legend(['x', 'x_dot'])"
   ]
  },
  {
   "cell_type": "code",
   "execution_count": 57,
   "metadata": {},
   "outputs": [
    {
     "data": {
      "text/plain": [
       "<matplotlib.legend.Legend at 0x1e97ff77ac8>"
      ]
     },
     "execution_count": 57,
     "metadata": {},
     "output_type": "execute_result"
    },
    {
     "data": {
      "image/png": "[encoded data removed]",
      "text/plain": [
       "<Figure size 432x288 with 1 Axes>"
      ]
     },
     "metadata": {
      "needs_background": "light"
     },
     "output_type": "display_data"
    }
   ],
   "source": [
    "x = x_vec[:,0]\n",
    "x_dot = x_vec[:,1]\n",
    "i = x_vec[:,2]\n",
    "r = x_vec[:,3]\n",
    "plt.plot(t, x)\n",
    "plt.plot(t,x_dot)\n",
    "plt.plot(t,i)\n",
    "plt.plot(t,r)\n",
    "plt.xlabel(\"time\",fontsize='13')\n",
    "plt.legend(['x', 'x_dot', 'i', 'r'])"
   ]
  },
  {
   "cell_type": "markdown",
   "metadata": {},
   "source": [
    "I know for certain that this is not the correct data for the ODE but I cannot seem to make the result work out from what I am giving it. The linear data in particular seems very unstable and divergent and I have checked every component of the jacobian by hand so I know that that is not the issue. The doublet simulation may be at fault, but again I do not know how that would be the case. There is nothing indicating issue in the ODEs themselves, so the issue may be in the programming itslef. every value is divergent except for the radius."
   ]
  },
  {
   "cell_type": "code",
   "execution_count": 58,
   "metadata": {},
   "outputs": [
    {
     "name": "stdout",
     "output_type": "stream",
     "text": [
      "r_bar= 3.039528321078427\n",
      "x_dot_bar= 0\n",
      "i_bar= 59.63554565955874\n",
      "v_bar= 596.3554565955875\n"
     ]
    }
   ],
   "source": [
    "##5 \n",
    "\n",
    "##---second linear simulation---##\n",
    "x0 = np.array([5, 0, 60, 3])\n",
    "\n",
    "#print(x0.shape)\n",
    "x_bar = 15\n",
    "\n",
    "x_dot_bar, i_bar, r_bar, v_bar = trim(x_bar, m, g, W, R_0, del_R, del_c, r0, k)\n",
    "A = JacA(x_bar, x_dot_bar, i_bar, r_bar, I_m, m, g, W, R_0, del_R, del_c, k)\n",
    "#print(type(A))\n",
    "#print(A)\n",
    "#print(np.linalg.eig(A))\n",
    "B = JacB(L, k)\n",
    "\n",
    "Bu = v_bar*B\n",
    "x_vec = odeint(lin_odes, x0, t, (A, B, v_bar))"
   ]
  },
  {
   "cell_type": "code",
   "execution_count": 59,
   "metadata": {},
   "outputs": [
    {
     "data": {
      "text/plain": [
       "<matplotlib.legend.Legend at 0x1e90dfb5c88>"
      ]
     },
     "execution_count": 59,
     "metadata": {},
     "output_type": "execute_result"
    },
    {
     "data": {
      "image/png": "[encoded data removed]",
      "text/plain": [
       "<Figure size 432x288 with 1 Axes>"
      ]
     },
     "metadata": {
      "needs_background": "light"
     },
     "output_type": "display_data"
    }
   ],
   "source": [
    "x = x_vec[:,0]\n",
    "x_dot = x_vec[:,1]\n",
    "plt.plot(t, x)\n",
    "plt.plot(t,x_dot)\n",
    "plt.xlabel(\"time\",fontsize='13')\n",
    "plt.legend(['x', 'x_dot'])"
   ]
  },
  {
   "cell_type": "code",
   "execution_count": 60,
   "metadata": {},
   "outputs": [
    {
     "data": {
      "text/plain": [
       "<matplotlib.legend.Legend at 0x1e90e03bac8>"
      ]
     },
     "execution_count": 60,
     "metadata": {},
     "output_type": "execute_result"
    },
    {
     "data": {
      "image/png": "[encoded data removed]",
      "text/plain": [
       "<Figure size 432x288 with 1 Axes>"
      ]
     },
     "metadata": {
      "needs_background": "light"
     },
     "output_type": "display_data"
    }
   ],
   "source": [
    "x = x_vec[:,0]\n",
    "x_dot = x_vec[:,1]\n",
    "i = x_vec[:,2]\n",
    "r = x_vec[:,3]\n",
    "plt.plot(t, x)\n",
    "plt.plot(t,x_dot)\n",
    "plt.plot(t,i)\n",
    "plt.plot(t,r)\n",
    "plt.xlabel(\"time\",fontsize='13')\n",
    "plt.legend(['x', 'x_dot', 'i', 'r'])"
   ]
  },
  {
   "cell_type": "markdown",
   "metadata": {},
   "source": [
    "Again the same behavior seems to occur no matter what, even regardless of the initial conditions on x0, though x seems to diverge less rapidly."
   ]
  },
  {
   "cell_type": "code",
   "execution_count": 61,
   "metadata": {},
   "outputs": [
    {
     "name": "stdout",
     "output_type": "stream",
     "text": [
      "r_bar= 3.0785491435537757\n",
      "x_dot_bar= 0\n",
      "i_bar= 60.40113419652508\n",
      "v_bar= 604.0113419652508\n"
     ]
    }
   ],
   "source": [
    "##5 \n",
    "\n",
    "##---second linear simulation---##\n",
    "x0 = np.array([5, 0, 60, 3])\n",
    "\n",
    "#print(x0.shape)\n",
    "x_bar = 30\n",
    "\n",
    "x_dot_bar, i_bar, r_bar, v_bar = trim(x_bar, m, g, W, R_0, del_R, del_c, r0, k)\n",
    "A = JacA(x_bar, x_dot_bar, i_bar, r_bar, I_m, m, g, W, R_0, del_R, del_c, k)\n",
    "#print(type(A))\n",
    "#print(A)\n",
    "#print(np.linalg.eig(A))\n",
    "B = JacB(L, k)\n",
    "\n",
    "Bu = v_bar*B\n",
    "x_vec = odeint(lin_odes, x0, t, (A, B, v_bar))"
   ]
  },
  {
   "cell_type": "code",
   "execution_count": 62,
   "metadata": {},
   "outputs": [
    {
     "data": {
      "text/plain": [
       "<matplotlib.legend.Legend at 0x1e90e0b7e48>"
      ]
     },
     "execution_count": 62,
     "metadata": {},
     "output_type": "execute_result"
    },
    {
     "data": {
      "image/png": "[encoded data removed]",
      "text/plain": [
       "<Figure size 432x288 with 1 Axes>"
      ]
     },
     "metadata": {
      "needs_background": "light"
     },
     "output_type": "display_data"
    }
   ],
   "source": [
    "x = x_vec[:,0]\n",
    "x_dot = x_vec[:,1]\n",
    "plt.plot(t, x)\n",
    "plt.plot(t,x_dot)\n",
    "plt.xlabel(\"time\",fontsize='13')\n",
    "plt.legend(['x', 'x_dot'])"
   ]
  },
  {
   "cell_type": "code",
   "execution_count": 63,
   "metadata": {},
   "outputs": [
    {
     "data": {
      "text/plain": [
       "<matplotlib.legend.Legend at 0x1e90e13bd08>"
      ]
     },
     "execution_count": 63,
     "metadata": {},
     "output_type": "execute_result"
    },
    {
     "data": {
      "image/png": "[encoded data removed]",
      "text/plain": [
       "<Figure size 432x288 with 1 Axes>"
      ]
     },
     "metadata": {
      "needs_background": "light"
     },
     "output_type": "display_data"
    }
   ],
   "source": [
    "x = x_vec[:,0]\n",
    "x_dot = x_vec[:,1]\n",
    "i = x_vec[:,2]\n",
    "r = x_vec[:,3]\n",
    "plt.plot(t, x)\n",
    "plt.plot(t,x_dot)\n",
    "plt.plot(t,i)\n",
    "plt.plot(t,r)\n",
    "plt.xlabel(\"time\",fontsize='13')\n",
    "plt.legend(['x', 'x_dot', 'i', 'r'])"
   ]
  },
  {
   "cell_type": "markdown",
   "metadata": {},
   "source": [
    "The behavior is unaffected by any of the trim points."
   ]
  }
 ],
 "metadata": {
  "kernelspec": {
   "display_name": "Python 3",
   "language": "python",
   "name": "python3"
  },
  "language_info": {
   "codemirror_mode": {
    "name": "ipython",
    "version": 3
   },
   "file_extension": ".py",
   "mimetype": "text/x-python",
   "name": "python",
   "nbconvert_exporter": "python",
   "pygments_lexer": "ipython3",
   "version": "3.7.4"
  }
 },
 "nbformat": 4,
 "nbformat_minor": 2
}
