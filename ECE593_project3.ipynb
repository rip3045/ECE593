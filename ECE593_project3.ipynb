{
 "cells": [
  {
   "cell_type": "code",
   "execution_count": 54,
   "metadata": {},
   "outputs": [],
   "source": [
    "import numpy as np\n",
    "import matplotlib.pyplot as plt\n",
    "from scipy.integrate import odeint\n",
    "import scipy.linalg as la\n",
    "from numpy import matmul as matmul\n",
    "from numpy.linalg import inv as inv\n",
    "\n",
    "from scipy.integrate import odeint\n",
    "\n",
    "from pprint import pprint"
   ]
  },
  {
   "cell_type": "code",
   "execution_count": 55,
   "metadata": {},
   "outputs": [],
   "source": [
    "### set up the constant portions, it seems as if the project is better understood as apply the control scheme to two\n",
    "##different linearly decoupled portions of the airplane"
   ]
  },
  {
   "cell_type": "markdown",
   "metadata": {},
   "source": [
    "# Part 1 Design RSLQR for first part of dynamics"
   ]
  },
  {
   "cell_type": "code",
   "execution_count": 56,
   "metadata": {},
   "outputs": [
    {
     "name": "stdout",
     "output_type": "stream",
     "text": [
      "A_sys1 is\n",
      " [[-3.8000e-02  1.8984e+01  0.0000e+00 -3.2174e+01]\n",
      " [-1.0000e-03 -6.3200e-01  1.0000e+00  0.0000e+00]\n",
      " [ 0.0000e+00 -7.5900e-01 -5.1800e-01  0.0000e+00]\n",
      " [ 0.0000e+00  0.0000e+00  1.0000e+00  0.0000e+00]]\n",
      "B matrix is\n",
      " [[ 0.00e+00  1.01e+01]\n",
      " [-8.60e-03  0.00e+00]\n",
      " [-1.10e-02  2.50e-02]\n",
      " [ 0.00e+00  0.00e+00]]\n"
     ]
    }
   ],
   "source": [
    "##define the system and control matrices\n",
    "\n",
    "A_sys1 = np.array([[-0.038, 18.984, 0, -32.174], [-0.001, -0.632, 1.0, 0], [0, -0.759, -0.518, 0], [0, 0, 1, 0]])\n",
    "print(\"A_sys1 is\\n\", A_sys1)\n",
    "\n",
    "B_cont1 = np.array([[0, 10.1], [-0.0086, 0], [-0.011, 0.025], [0, 0]])\n",
    "print(\"B matrix is\\n\", B_cont1)"
   ]
  },
  {
   "cell_type": "markdown",
   "metadata": {},
   "source": [
    "this is of course just the regular system, need to define the augmented system"
   ]
  },
  {
   "cell_type": "code",
   "execution_count": 57,
   "metadata": {},
   "outputs": [
    {
     "name": "stdout",
     "output_type": "stream",
     "text": [
      "A_tilde is\n",
      " [[ 0.0000e+00  0.0000e+00  1.0000e+00  0.0000e+00  0.0000e+00  0.0000e+00]\n",
      " [ 0.0000e+00  0.0000e+00  0.0000e+00  1.0000e+00  0.0000e+00  0.0000e+00]\n",
      " [ 0.0000e+00  0.0000e+00 -3.8000e-02  1.8984e+01  0.0000e+00 -3.2174e+01]\n",
      " [ 0.0000e+00  0.0000e+00 -1.0000e-03 -6.3200e-01  1.0000e+00  0.0000e+00]\n",
      " [ 0.0000e+00  0.0000e+00  0.0000e+00 -7.5900e-01 -5.1800e-01  0.0000e+00]\n",
      " [ 0.0000e+00  0.0000e+00  0.0000e+00  0.0000e+00  1.0000e+00  0.0000e+00]]\n",
      "B tilde1 is\n",
      " [[ 0.00e+00  0.00e+00]\n",
      " [ 0.00e+00  0.00e+00]\n",
      " [ 0.00e+00  1.01e+01]\n",
      " [-8.60e-03  0.00e+00]\n",
      " [-1.10e-02  2.50e-02]\n",
      " [ 0.00e+00  0.00e+00]]\n"
     ]
    }
   ],
   "source": [
    "### set up the augmented matrices\n",
    "A_tilde1 = np.zeros((6,6))\n",
    "A_tilde1[2:6,2:6] = A_sys1\n",
    "A_tilde1[0:2, 2:4] = np.identity(2)\n",
    "print(\"A_tilde is\\n\", A_tilde1)\n",
    "\n",
    "B_tilde1 = np.zeros((6,2))\n",
    "B_tilde1[2:6, 0:2] = B_cont1\n",
    "print(\"B tilde1 is\\n\", B_tilde1)"
   ]
  },
  {
   "cell_type": "markdown",
   "metadata": {},
   "source": [
    "the next step is to design the controller parameters, since we need positive definiteness, start with identity"
   ]
  },
  {
   "cell_type": "code",
   "execution_count": 77,
   "metadata": {},
   "outputs": [
    {
     "name": "stdout",
     "output_type": "stream",
     "text": [
      "R is: \n",
      " [[100. -30.]\n",
      " [-30. 100.]]\n",
      "error vec is:\n",
      " [[80. ]\n",
      " [ 0.1]\n",
      " [ 0. ]\n",
      " [ 0. ]\n",
      " [ 0. ]\n",
      " [ 0. ]]\n"
     ]
    }
   ],
   "source": [
    "## we will set up the cost matrices and the target values, as well as the initializations\n",
    "#the cost matrices\n",
    "\n",
    "\n",
    "R1 = np.array([[100, -30], [-30,100]], dtype = float)\n",
    "print(\"R is: \\n\", R1)\n",
    "Q1 = np.identity(6)\n",
    "\n",
    "r_u = 80\n",
    "r_alpha = 0.1\n",
    "r_vec1 = np.array([r_u, r_alpha, 0, 0, 0, 0])\n",
    "r_vec1 = r_vec1.reshape((6,1))\n",
    "print(\"error vec is:\\n\", r_vec1)"
   ]
  },
  {
   "cell_type": "code",
   "execution_count": 78,
   "metadata": {},
   "outputs": [
    {
     "name": "stdout",
     "output_type": "stream",
     "text": [
      "[ 0.   0.  38.   0.2  0.   0. ]\n"
     ]
    }
   ],
   "source": [
    "### set up the initializations as well, I am going to go with a velocity but none of the angles\n",
    "\n",
    "z_init1 = np.array([0, 0, 38, 0.2, 0, 0], dtype=float)\n",
    "\n",
    "\n",
    "print(z_init1)"
   ]
  },
  {
   "cell_type": "code",
   "execution_count": 79,
   "metadata": {},
   "outputs": [
    {
     "name": "stdout",
     "output_type": "stream",
     "text": [
      "P is:\n",
      " [[ 1.86026042e+01  2.26075069e+01  3.22548450e+01  1.55693909e+04\n",
      "  -1.30538218e+04 -2.29204632e+04]\n",
      " [ 2.26075069e+01  7.58164368e+02  3.99888249e+01  2.08899223e+04\n",
      "  -1.65548312e+04 -3.02109740e+04]\n",
      " [ 3.22548450e+01  3.99888249e+01  5.95622193e+01  2.88382960e+04\n",
      "  -2.41835390e+04 -4.24613175e+04]\n",
      " [ 1.55693909e+04  2.08899223e+04  2.88382960e+04  1.43289439e+07\n",
      "  -1.20181675e+07 -2.10927345e+07]\n",
      " [-1.30538218e+04 -1.65548312e+04 -2.41835390e+04 -1.20181675e+07\n",
      "   1.00813933e+07  1.76918990e+07]\n",
      " [-2.29204632e+04 -3.02109740e+04 -4.24613175e+04 -2.10927345e+07\n",
      "   1.76918990e+07  3.10498544e+07]]\n",
      "K is: \n",
      " [[ 1.04657085e-01 -5.99211932e-03  1.87984235e-01  6.82934663e+01\n",
      "  -5.71951615e+01 -1.00900246e+02]\n",
      " [ 2.56810081e-02 -1.01634132e-01  2.62946732e-02 -7.13859281e+01\n",
      "   6.06523464e+01  1.04111608e+02]]\n"
     ]
    }
   ],
   "source": [
    "###The solution to the algebraic riccati equation, to use continuously for the LQR portion\n",
    "####this and the augmented matrices represent the RSLQR System\n",
    "###for some reason, B and R must have same number of columns, but R must be invertible, which is confusing\n",
    "#figured it out, R must be built from B, an explicit explanation of these matrix dimensions would have been nice\n",
    "\n",
    "P1 = la.solve_continuous_are(a=A_tilde1, b=B_tilde1, q=Q1, r=R1)\n",
    "print(\"P is:\\n\", P1)\n",
    "K1 = matmul(inv(R1), matmul(B_tilde1.T, P1))\n",
    "print(\"K is: \\n\", K1)"
   ]
  },
  {
   "cell_type": "code",
   "execution_count": 80,
   "metadata": {},
   "outputs": [],
   "source": [
    "def Dyn_time_step1(z_vec, del_t, A, B, K, P, r_vec):\n",
    "    \"\"\"this function returns one time step in the dynamic equation for the RSLQR\"\"\"\n",
    "    z_vec = z_vec.reshape((6,1))\n",
    "    \n",
    "    z_dot = matmul(A-matmul(B, K),z_vec) - r_vec\n",
    "    \n",
    "    z_dot = z_dot.reshape(6)\n",
    "  \n",
    "    return z_dot;"
   ]
  },
  {
   "cell_type": "code",
   "execution_count": 81,
   "metadata": {},
   "outputs": [
    {
     "data": {
      "text/plain": [
       "array([-4.20000000e+01,  1.00000000e-01,  1.36460479e+02,  1.44980101e-02,\n",
       "        4.08972737e-01,  0.00000000e+00])"
      ]
     },
     "execution_count": 81,
     "metadata": {},
     "output_type": "execute_result"
    }
   ],
   "source": [
    "Dyn_time_step1(z_init1, 0.1, A_tilde1, B_tilde1, K1, P1, r_vec1)"
   ]
  },
  {
   "cell_type": "markdown",
   "metadata": {},
   "source": [
    "# Part 2 Design RSLQR Controller for second dynamics"
   ]
  },
  {
   "cell_type": "markdown",
   "metadata": {},
   "source": [
    "I am taking phi to be the roll angle"
   ]
  },
  {
   "cell_type": "code",
   "execution_count": 82,
   "metadata": {},
   "outputs": [
    {
     "name": "stdout",
     "output_type": "stream",
     "text": [
      "A_sys1 is\n",
      " [[-3.8000e-02  1.8984e+01  0.0000e+00 -3.2174e+01]\n",
      " [-1.0000e-03 -6.3200e-01  1.0000e+00  0.0000e+00]\n",
      " [ 0.0000e+00 -7.5900e-01 -5.1800e-01  0.0000e+00]\n",
      " [ 0.0000e+00  0.0000e+00  1.0000e+00  0.0000e+00]]\n",
      "B matrix is\n",
      " [[ 0.00e+00  1.01e+01]\n",
      " [-8.60e-03  0.00e+00]\n",
      " [-1.10e-02  2.50e-02]\n",
      " [ 0.00e+00  0.00e+00]]\n"
     ]
    }
   ],
   "source": [
    "##define the system and control matrices\n",
    "\n",
    "A_sys2 = np.array([[-0.0829, 0, -1, 0.0487], [-4.546, -1.699, 0.717, 0], [3.382, -0.0654, -0.0893, 0], [0, 1, 0, 0]])\n",
    "print(\"A_sys1 is\\n\", A_sys1)\n",
    "\n",
    "B_cont2 = np.array([[0, 0.0116], [27.276, 0.5758], [0.3952, -1.362], [0, 0]])\n",
    "print(\"B matrix is\\n\", B_cont1)"
   ]
  },
  {
   "cell_type": "code",
   "execution_count": 83,
   "metadata": {},
   "outputs": [
    {
     "name": "stdout",
     "output_type": "stream",
     "text": [
      "A_tilde is\n",
      " [[ 0.      0.      0.      0.      1.    ]\n",
      " [ 0.     -0.0829  0.     -1.      0.0487]\n",
      " [ 0.     -4.546  -1.699   0.717   0.    ]\n",
      " [ 0.      3.382  -0.0654 -0.0893  0.    ]\n",
      " [ 0.      0.      1.      0.      0.    ]]\n",
      "B tilde2 is\n",
      " [[ 0.0000e+00  0.0000e+00]\n",
      " [ 0.0000e+00  1.1600e-02]\n",
      " [ 2.7276e+01  5.7580e-01]\n",
      " [ 3.9520e-01 -1.3620e+00]\n",
      " [ 0.0000e+00  0.0000e+00]]\n"
     ]
    }
   ],
   "source": [
    "### set up the augmented matrices\n",
    "A_tilde2 = np.zeros((5,5))\n",
    "A_tilde2[1:5,1:5] = A_sys2\n",
    "A_tilde2[0,4] = 1\n",
    "print(\"A_tilde is\\n\", A_tilde2)\n",
    "\n",
    "B_tilde2 = np.zeros((5,2))\n",
    "B_tilde2[1:5, 0:2] = B_cont2\n",
    "print(\"B tilde2 is\\n\", B_tilde2)"
   ]
  },
  {
   "cell_type": "code",
   "execution_count": 84,
   "metadata": {},
   "outputs": [
    {
     "name": "stdout",
     "output_type": "stream",
     "text": [
      "R is: \n",
      " [[100. -30.]\n",
      " [-30. 100.]]\n",
      "error vec is:\n",
      " [[0.2]\n",
      " [0. ]\n",
      " [0. ]\n",
      " [0. ]\n",
      " [0. ]]\n"
     ]
    }
   ],
   "source": [
    "## we will set up the cost matrices and the target values, as well as the initializations\n",
    "#the cost matrices\n",
    "\n",
    "\n",
    "R2 = np.array([[100, -30], [-30,100]], dtype = float)\n",
    "print(\"R is: \\n\", R2)\n",
    "Q2 = np.identity(5)\n",
    "\n",
    "r_phi = 0.2\n",
    "\n",
    "r_vec2 = np.array([r_phi, 0, 0, 0, 0])\n",
    "r_vec2 = r_vec2.reshape((5,1))\n",
    "print(\"error vec is:\\n\", r_vec2)"
   ]
  },
  {
   "cell_type": "code",
   "execution_count": 85,
   "metadata": {},
   "outputs": [
    {
     "name": "stdout",
     "output_type": "stream",
     "text": [
      "[0.   0.15 0.   0.   0.  ]\n"
     ]
    }
   ],
   "source": [
    "### set up the initializations as well, I am going to go with close to target\n",
    "\n",
    "z_init2 = np.array([0, 0.15, 0, 0, 0], dtype=float)\n",
    "\n",
    "\n",
    "print(z_init2)"
   ]
  },
  {
   "cell_type": "code",
   "execution_count": 86,
   "metadata": {},
   "outputs": [
    {
     "name": "stdout",
     "output_type": "stream",
     "text": [
      "P is:\n",
      " [[ 2.0966969  -0.11781052  0.34763797  0.24318022  1.68518775]\n",
      " [-0.11781052 14.7377501  -0.26188596 -0.05585517  0.02353242]\n",
      " [ 0.34763797 -0.26188596  0.37501479  0.11944741  0.72688783]\n",
      " [ 0.24318022 -0.05585517  0.11944741  4.49459013  0.33769532]\n",
      " [ 1.68518775  0.02353242  0.72688783  0.33769532  3.17804559]]\n",
      "K is: \n",
      " [[ 0.10481929 -0.07842202  0.1130898   0.03536548  0.21920562]\n",
      " [ 0.03012171 -0.02256422  0.03442902 -0.04992537  0.06535043]]\n"
     ]
    }
   ],
   "source": [
    "###The solution to the algebraic riccati equation, to use continuously for the LQR portion\n",
    "####this and the augmented matrices represent the RSLQR System\n",
    "###for some reason, B and R must have same number of columns, but R must be invertible, which is confusing\n",
    "#figured it out, R must be built from B, an explicit explanation of these matrix dimensions would have been nice\n",
    "\n",
    "P2 = la.solve_continuous_are(a=A_tilde2, b=B_tilde2, q=Q2, r=R2)\n",
    "print(\"P is:\\n\", P2)\n",
    "K2 = matmul(inv(R2), matmul(B_tilde2.T, P2))\n",
    "print(\"K is: \\n\", K2)"
   ]
  },
  {
   "cell_type": "code",
   "execution_count": 87,
   "metadata": {},
   "outputs": [],
   "source": [
    "def Dyn_time_step2(z_vec, del_t, A, B, K, P, r_vec):\n",
    "    \"\"\"this function returns one time step in the dynamic equation for the RSLQR for the second system\"\"\"\n",
    "    z_vec = z_vec.reshape((5,1))\n",
    "    \n",
    "    z_dot = matmul(A-matmul(B, K),z_vec) - r_vec\n",
    "    \n",
    "    z_dot = z_dot.reshape(5)\n",
    "  \n",
    "    return z_dot;"
   ]
  },
  {
   "cell_type": "code",
   "execution_count": 88,
   "metadata": {},
   "outputs": [
    {
     "data": {
      "text/plain": [
       "array([-0.2       , -0.01239574, -0.35909527,  0.50733899,  0.        ])"
      ]
     },
     "execution_count": 88,
     "metadata": {},
     "output_type": "execute_result"
    }
   ],
   "source": [
    "Dyn_time_step2(z_init2, 0.1, A_tilde2, B_tilde2, K2, P2, r_vec2)"
   ]
  },
  {
   "cell_type": "markdown",
   "metadata": {},
   "source": [
    "# Part 3 Simulate the Decoupled Dynamics"
   ]
  },
  {
   "cell_type": "code",
   "execution_count": 89,
   "metadata": {},
   "outputs": [
    {
     "name": "stdout",
     "output_type": "stream",
     "text": [
      "(6,)\n"
     ]
    }
   ],
   "source": [
    "t = np.linspace(0, 800, 80000)\n",
    "print(z_init1.shape)\n",
    "z_sim1 = odeint(Dyn_time_step1, z_init1, t, (A_tilde1, B_tilde1, K1, P1, r_vec1))"
   ]
  },
  {
   "cell_type": "code",
   "execution_count": 90,
   "metadata": {},
   "outputs": [
    {
     "data": {
      "text/plain": [
       "(80000, 6)"
      ]
     },
     "execution_count": 90,
     "metadata": {},
     "output_type": "execute_result"
    }
   ],
   "source": [
    "z_sim1.shape"
   ]
  },
  {
   "cell_type": "code",
   "execution_count": 91,
   "metadata": {},
   "outputs": [
    {
     "name": "stdout",
     "output_type": "stream",
     "text": [
      "(80000,)\n",
      "(80000,)\n"
     ]
    }
   ],
   "source": [
    "u = z_sim1[:,2]\n",
    "print(u.shape)\n",
    "alpha = z_sim1[:,3]\n",
    "print(alpha.shape)"
   ]
  },
  {
   "cell_type": "code",
   "execution_count": 92,
   "metadata": {},
   "outputs": [
    {
     "data": {
      "text/plain": [
       "Text(0, 0.5, 'airspeed(m/s)')"
      ]
     },
     "execution_count": 92,
     "metadata": {},
     "output_type": "execute_result"
    },
    {
     "data": {
      "image/png": "[encoded data removed]",
      "text/plain": [
       "<Figure size 432x288 with 1 Axes>"
      ]
     },
     "metadata": {
      "needs_background": "light"
     },
     "output_type": "display_data"
    }
   ],
   "source": [
    "plt.plot(t[0:5000], u[0:5000])\n",
    "#plt.plot(t,e_alpha)\n",
    "plt.xlabel(\"time(s)\",fontsize='13')\n",
    "plt.ylabel(\"airspeed(m/s)\",fontsize='13')"
   ]
  },
  {
   "cell_type": "markdown",
   "metadata": {},
   "source": [
    "The input command for the plane is 40m/s, so we can see that we have convergence in that respect, the variation in the integral error is ##extremely## subject to intial conditions, I have restricted the length to show the convergence compared to the angle convergence"
   ]
  },
  {
   "cell_type": "code",
   "execution_count": 93,
   "metadata": {},
   "outputs": [
    {
     "data": {
      "text/plain": [
       "Text(0, 0.5, 'attack angle(rad)')"
      ]
     },
     "execution_count": 93,
     "metadata": {},
     "output_type": "execute_result"
    },
    {
     "data": {
      "image/png": "[encoded data removed]",
      "text/plain": [
       "<Figure size 432x288 with 1 Axes>"
      ]
     },
     "metadata": {
      "needs_background": "light"
     },
     "output_type": "display_data"
    }
   ],
   "source": [
    "#plt.plot(t, e_u)\n",
    "plt.plot(t,alpha)\n",
    "plt.xlabel(\"time(s)\",fontsize='13')\n",
    "plt.ylabel(\"attack angle(rad)\",fontsize='13')"
   ]
  },
  {
   "cell_type": "markdown",
   "metadata": {},
   "source": [
    "The target value for the angle of attack is 0.25 radians, as best I can tell, the controller has a very hard time converging\n",
    "on this value, my guess is that as I extend out the simulation the convergence becomes more likely. Form this I gather that the airplane controllers need to be very very carefully tuned to work properly. "
   ]
  },
  {
   "cell_type": "code",
   "execution_count": 51,
   "metadata": {},
   "outputs": [
    {
     "name": "stdout",
     "output_type": "stream",
     "text": [
      "(5,)\n"
     ]
    }
   ],
   "source": [
    "t = np.linspace(0, 150, 15000)\n",
    "print(z_init2.shape)\n",
    "z_sim2 = odeint(Dyn_time_step2, z_init2, t, (A_tilde2, B_tilde2, K2, P2, r_vec2))"
   ]
  },
  {
   "cell_type": "code",
   "execution_count": 52,
   "metadata": {},
   "outputs": [
    {
     "name": "stdout",
     "output_type": "stream",
     "text": [
      "(15000,)\n"
     ]
    }
   ],
   "source": [
    "phi = z_sim2[:,4]\n",
    "print(phi.shape)\n"
   ]
  },
  {
   "cell_type": "code",
   "execution_count": 53,
   "metadata": {},
   "outputs": [
    {
     "data": {
      "text/plain": [
       "Text(0, 0.5, 'phi(rad)')"
      ]
     },
     "execution_count": 53,
     "metadata": {},
     "output_type": "execute_result"
    },
    {
     "data": {
      "image/png": "[encoded data removed]",
      "text/plain": [
       "<Figure size 432x288 with 1 Axes>"
      ]
     },
     "metadata": {
      "needs_background": "light"
     },
     "output_type": "display_data"
    }
   ],
   "source": [
    "plt.plot(t, phi)\n",
    "plt.xlabel(\"time(s)\",fontsize='13')\n",
    "plt.ylabel(\"phi(rad)\",fontsize='13')"
   ]
  },
  {
   "cell_type": "markdown",
   "metadata": {},
   "source": [
    "I actually assigned the wrong IC for this but it seems that phi is very convergent and very quickly, as the target value was\n",
    "actually 0.2, but there is an interestingly large amount of vibration. This is probably due to the fact that there were\n",
    "effectively two actuators pushing towards a single value, rather than two for two values as in the previous one"
   ]
  }
 ],
 "metadata": {
  "kernelspec": {
   "display_name": "Python 3",
   "language": "python",
   "name": "python3"
  },
  "language_info": {
   "codemirror_mode": {
    "name": "ipython",
    "version": 3
   },
   "file_extension": ".py",
   "mimetype": "text/x-python",
   "name": "python",
   "nbconvert_exporter": "python",
   "pygments_lexer": "ipython3",
   "version": "3.7.4"
  }
 },
 "nbformat": 4,
 "nbformat_minor": 2
}
